{
  "nbformat": 4,
  "nbformat_minor": 0,
  "metadata": {
    "colab": {
      "provenance": []
    },
    "kernelspec": {
      "name": "python3",
      "display_name": "Python 3"
    },
    "language_info": {
      "name": "python"
    }
  },
  "cells": [
    {
      "cell_type": "code",
      "execution_count": 41,
      "metadata": {
        "colab": {
          "base_uri": "https://localhost:8080/"
        },
        "id": "8sSNf_RcPUPd",
        "outputId": "ba8ae3cc-8389-4a73-99de-b095acb39a5f"
      },
      "outputs": [
        {
          "output_type": "stream",
          "name": "stdout",
          "text": [
            "Setup complete! Tables available:\n",
            "shape: (5, 1)\n",
            "┌──────────┐\n",
            "│ name     │\n",
            "│ ---      │\n",
            "│ str      │\n",
            "╞══════════╡\n",
            "│ airlines │\n",
            "│ airports │\n",
            "│ flights  │\n",
            "│ planes   │\n",
            "│ weather  │\n",
            "└──────────┘\n"
          ]
        }
      ],
      "source": [
        "import polars as pl\n",
        "airlines = pl.read_csv('https://raw.githubusercontent.com/philhetzel/opan5510-class11/refs/heads/main/data/nyc_airlines.csv')\n",
        "airports = pl.read_csv('https://raw.githubusercontent.com/philhetzel/opan5510-class11/refs/heads/main/data/nyc_airports.csv', null_values=\"NA\")\n",
        "flights = pl.read_csv('https://raw.githubusercontent.com/philhetzel/opan5510-class11/refs/heads/main/data/nyc_flights.csv', null_values=\"NA\")\n",
        "planes = pl.read_csv('https://raw.githubusercontent.com/philhetzel/opan5510-class11/refs/heads/main/data/nyc_planes.csv', null_values=[\"NA\", \"null\"])\n",
        "weather = pl.read_csv('https://raw.githubusercontent.com/philhetzel/opan5510-class11/refs/heads/main/data/nyc_weather.csv', schema_overrides={\"precip\": pl.Float64, \"visib\": pl.Float64}, null_values=\"NA\")\n",
        "\n",
        "flights = flights.with_columns(pl.col(\"time_hour\").str.strptime(pl.Datetime))\n",
        "weather = weather.with_columns(pl.col(\"time_hour\").str.strptime(pl.Datetime))\n",
        "\n",
        "# Create SQL context\n",
        "ctx = pl.SQLContext(\n",
        "    airlines=airlines,\n",
        "    airports=airports,\n",
        "    flights=flights,\n",
        "    planes=planes,\n",
        "    weather=weather,\n",
        "    eager=True\n",
        ")\n",
        "\n",
        "print(\"Setup complete! Tables available:\")\n",
        "print(ctx.execute(\"SHOW TABLES\"))"
      ]
    },
    {
      "cell_type": "code",
      "source": [
        "# Exercise 1: Basic Queries\n",
        "# 1.1 Find all unique carriers in the airlines table\n",
        "result = ctx.execute(\"\"\"\n",
        "SELECT DISTINCT carrier\n",
        "FROM airlines\n",
        "\"\"\")\n",
        "print(result)"
      ],
      "metadata": {
        "colab": {
          "base_uri": "https://localhost:8080/"
        },
        "id": "PBzw1xBwP1LZ",
        "outputId": "fe615df2-e07f-4813-f037-4458262c3103"
      },
      "execution_count": 9,
      "outputs": [
        {
          "output_type": "stream",
          "name": "stdout",
          "text": [
            "shape: (16, 1)\n",
            "┌─────────┐\n",
            "│ carrier │\n",
            "│ ---     │\n",
            "│ str     │\n",
            "╞═════════╡\n",
            "│ 9E      │\n",
            "│ AA      │\n",
            "│ AS      │\n",
            "│ B6      │\n",
            "│ DL      │\n",
            "│ …       │\n",
            "│ UA      │\n",
            "│ US      │\n",
            "│ VX      │\n",
            "│ WN      │\n",
            "│ YV      │\n",
            "└─────────┘\n"
          ]
        }
      ]
    },
    {
      "cell_type": "code",
      "source": [
        "# 1.2 Find the top 10 destinations by number of flights\n",
        "result = ctx.execute(\"\"\"\n",
        "SELECT dest, COUNT(*) AS flight_count\n",
        "FROM flights\n",
        "GROUP BY dest\n",
        "ORDER BY flight_count DESC\n",
        "LIMIT 10\n",
        "\"\"\")\n",
        "print(result)"
      ],
      "metadata": {
        "colab": {
          "base_uri": "https://localhost:8080/"
        },
        "id": "F39mxAmTP5p3",
        "outputId": "6803bd97-2b16-48f3-85ef-c3bf50bf0a8c"
      },
      "execution_count": 10,
      "outputs": [
        {
          "output_type": "stream",
          "name": "stdout",
          "text": [
            "shape: (10, 2)\n",
            "┌──────┬──────────────┐\n",
            "│ dest ┆ flight_count │\n",
            "│ ---  ┆ ---          │\n",
            "│ str  ┆ u32          │\n",
            "╞══════╪══════════════╡\n",
            "│ ORD  ┆ 17283        │\n",
            "│ ATL  ┆ 17215        │\n",
            "│ LAX  ┆ 16174        │\n",
            "│ BOS  ┆ 15508        │\n",
            "│ MCO  ┆ 14082        │\n",
            "│ CLT  ┆ 14064        │\n",
            "│ SFO  ┆ 13331        │\n",
            "│ FLL  ┆ 12055        │\n",
            "│ MIA  ┆ 11728        │\n",
            "│ DCA  ┆ 9705         │\n",
            "└──────┴──────────────┘\n"
          ]
        }
      ]
    },
    {
      "cell_type": "code",
      "source": [
        "# 1.3 Find all flights that departed more than 2 hours late (120 minutes)\n",
        "result = ctx.execute(\"\"\"\n",
        "SELECT *\n",
        "FROM flights\n",
        "WHERE dep_delay > 120\n",
        "\"\"\")\n",
        "print(result)"
      ],
      "metadata": {
        "colab": {
          "base_uri": "https://localhost:8080/"
        },
        "id": "qO8N4YgsP710",
        "outputId": "a69ea2bf-c1e5-45b8-f826-4478778261bc"
      },
      "execution_count": 11,
      "outputs": [
        {
          "output_type": "stream",
          "name": "stdout",
          "text": [
            "shape: (9_723, 19)\n",
            "┌──────┬───────┬─────┬──────────┬───┬──────────┬──────┬────────┬─────────────────────────┐\n",
            "│ year ┆ month ┆ day ┆ dep_time ┆ … ┆ distance ┆ hour ┆ minute ┆ time_hour               │\n",
            "│ ---  ┆ ---   ┆ --- ┆ ---      ┆   ┆ ---      ┆ ---  ┆ ---    ┆ ---                     │\n",
            "│ i64  ┆ i64   ┆ i64 ┆ i64      ┆   ┆ i64      ┆ i64  ┆ i64    ┆ datetime[μs, UTC]       │\n",
            "╞══════╪═══════╪═════╪══════════╪═══╪══════════╪══════╪════════╪═════════════════════════╡\n",
            "│ 2013 ┆ 1     ┆ 1   ┆ 848      ┆ … ┆ 184      ┆ 18   ┆ 35     ┆ 2013-01-01 23:00:00 UTC │\n",
            "│ 2013 ┆ 1     ┆ 1   ┆ 957      ┆ … ┆ 200      ┆ 7    ┆ 33     ┆ 2013-01-01 12:00:00 UTC │\n",
            "│ 2013 ┆ 1     ┆ 1   ┆ 1114     ┆ … ┆ 1416     ┆ 9    ┆ 0      ┆ 2013-01-01 14:00:00 UTC │\n",
            "│ 2013 ┆ 1     ┆ 1   ┆ 1540     ┆ … ┆ 1598     ┆ 13   ┆ 38     ┆ 2013-01-01 18:00:00 UTC │\n",
            "│ 2013 ┆ 1     ┆ 1   ┆ 1815     ┆ … ┆ 1134     ┆ 13   ┆ 25     ┆ 2013-01-01 18:00:00 UTC │\n",
            "│ …    ┆ …     ┆ …   ┆ …        ┆ … ┆ …        ┆ …    ┆ …      ┆ …                       │\n",
            "│ 2013 ┆ 9     ┆ 30  ┆ 1823     ┆ … ┆ 765      ┆ 15   ┆ 45     ┆ 2013-09-30 19:00:00 UTC │\n",
            "│ 2013 ┆ 9     ┆ 30  ┆ 1951     ┆ … ┆ 708      ┆ 16   ┆ 49     ┆ 2013-09-30 20:00:00 UTC │\n",
            "│ 2013 ┆ 9     ┆ 30  ┆ 2053     ┆ … ┆ 746      ┆ 18   ┆ 15     ┆ 2013-09-30 22:00:00 UTC │\n",
            "│ 2013 ┆ 9     ┆ 30  ┆ 2159     ┆ … ┆ 301      ┆ 18   ┆ 45     ┆ 2013-09-30 22:00:00 UTC │\n",
            "│ 2013 ┆ 9     ┆ 30  ┆ 2235     ┆ … ┆ 944      ┆ 20   ┆ 1      ┆ 2013-10-01 00:00:00 UTC │\n",
            "└──────┴───────┴─────┴──────────┴───┴──────────┴──────┴────────┴─────────────────────────┘\n"
          ]
        }
      ]
    },
    {
      "cell_type": "code",
      "source": [
        "# Exercise 2: Aggregation\n",
        "# 2.1 Calculate the average departure delay for each origin airport\n",
        "result = ctx.execute(\"\"\"\n",
        "SELECT origin, AVG(dep_delay) AS avg_dep_delay\n",
        "FROM flights\n",
        "WHERE dep_delay IS NOT NULL\n",
        "GROUP BY origin\n",
        "ORDER BY avg_dep_delay DESC\n",
        "\"\"\")\n",
        "print(result)"
      ],
      "metadata": {
        "colab": {
          "base_uri": "https://localhost:8080/"
        },
        "id": "bPsKumbvP9rg",
        "outputId": "c5bc5f44-5a64-4636-b343-8f5e517b5270"
      },
      "execution_count": 12,
      "outputs": [
        {
          "output_type": "stream",
          "name": "stdout",
          "text": [
            "shape: (3, 2)\n",
            "┌────────┬───────────────┐\n",
            "│ origin ┆ avg_dep_delay │\n",
            "│ ---    ┆ ---           │\n",
            "│ str    ┆ f64           │\n",
            "╞════════╪═══════════════╡\n",
            "│ EWR    ┆ 15.107954     │\n",
            "│ JFK    ┆ 12.112159     │\n",
            "│ LGA    ┆ 10.346876     │\n",
            "└────────┴───────────────┘\n"
          ]
        }
      ]
    },
    {
      "cell_type": "code",
      "source": [
        "# 2.2 Find the busiest month of the year (by number of flights)\n",
        "# (They asked to peek first; keeping it as in the prompt)\n",
        "peek = ctx.execute(\"\"\"\n",
        "SELECT *\n",
        "FROM flights\n",
        "LIMIT 5\n",
        "\"\"\")\n",
        "print(peek)\n",
        "\n",
        "result = ctx.execute(\"\"\"\n",
        "SELECT month, COUNT(*) AS flights_in_month\n",
        "FROM flights\n",
        "GROUP BY month\n",
        "ORDER BY flights_in_month DESC\n",
        "LIMIT 1\n",
        "\"\"\")\n",
        "print(result)"
      ],
      "metadata": {
        "colab": {
          "base_uri": "https://localhost:8080/"
        },
        "id": "-_kFujU4QBRB",
        "outputId": "eeb5eb13-2bce-4eed-ca83-19b3036e75f3"
      },
      "execution_count": 13,
      "outputs": [
        {
          "output_type": "stream",
          "name": "stdout",
          "text": [
            "shape: (5, 19)\n",
            "┌──────┬───────┬─────┬──────────┬───┬──────────┬──────┬────────┬─────────────────────────┐\n",
            "│ year ┆ month ┆ day ┆ dep_time ┆ … ┆ distance ┆ hour ┆ minute ┆ time_hour               │\n",
            "│ ---  ┆ ---   ┆ --- ┆ ---      ┆   ┆ ---      ┆ ---  ┆ ---    ┆ ---                     │\n",
            "│ i64  ┆ i64   ┆ i64 ┆ i64      ┆   ┆ i64      ┆ i64  ┆ i64    ┆ datetime[μs, UTC]       │\n",
            "╞══════╪═══════╪═════╪══════════╪═══╪══════════╪══════╪════════╪═════════════════════════╡\n",
            "│ 2013 ┆ 1     ┆ 1   ┆ 517      ┆ … ┆ 1400     ┆ 5    ┆ 15     ┆ 2013-01-01 10:00:00 UTC │\n",
            "│ 2013 ┆ 1     ┆ 1   ┆ 533      ┆ … ┆ 1416     ┆ 5    ┆ 29     ┆ 2013-01-01 10:00:00 UTC │\n",
            "│ 2013 ┆ 1     ┆ 1   ┆ 542      ┆ … ┆ 1089     ┆ 5    ┆ 40     ┆ 2013-01-01 10:00:00 UTC │\n",
            "│ 2013 ┆ 1     ┆ 1   ┆ 544      ┆ … ┆ 1576     ┆ 5    ┆ 45     ┆ 2013-01-01 10:00:00 UTC │\n",
            "│ 2013 ┆ 1     ┆ 1   ┆ 554      ┆ … ┆ 762      ┆ 6    ┆ 0      ┆ 2013-01-01 11:00:00 UTC │\n",
            "└──────┴───────┴─────┴──────────┴───┴──────────┴──────┴────────┴─────────────────────────┘\n",
            "shape: (1, 2)\n",
            "┌───────┬──────────────────┐\n",
            "│ month ┆ flights_in_month │\n",
            "│ ---   ┆ ---              │\n",
            "│ i64   ┆ u32              │\n",
            "╞═══════╪══════════════════╡\n",
            "│ 7     ┆ 29425            │\n",
            "└───────┴──────────────────┘\n"
          ]
        }
      ]
    },
    {
      "cell_type": "code",
      "source": [
        "# 2.3 On-time performance rate for each carrier (on-time if dep_delay <= 15)\n",
        "result = ctx.execute(\"\"\"\n",
        "SELECT\n",
        "  carrier,\n",
        "  AVG(CASE WHEN dep_delay <= 15 THEN 1 ELSE 0 END) AS on_time_rate\n",
        "FROM flights\n",
        "WHERE dep_delay IS NOT NULL\n",
        "GROUP BY carrier\n",
        "ORDER BY on_time_rate DESC\n",
        "\"\"\")\n",
        "print(result)"
      ],
      "metadata": {
        "colab": {
          "base_uri": "https://localhost:8080/"
        },
        "id": "9WVABlDUQGvE",
        "outputId": "aa836416-214b-45b6-c3f0-39f20cb6a203"
      },
      "execution_count": 14,
      "outputs": [
        {
          "output_type": "stream",
          "name": "stdout",
          "text": [
            "shape: (16, 2)\n",
            "┌─────────┬──────────────┐\n",
            "│ carrier ┆ on_time_rate │\n",
            "│ ---     ┆ ---          │\n",
            "│ str     ┆ f64          │\n",
            "╞═════════╪══════════════╡\n",
            "│ HA      ┆ 0.929825     │\n",
            "│ US      ┆ 0.878227     │\n",
            "│ AS      ┆ 0.867978     │\n",
            "│ AA      ┆ 0.840713     │\n",
            "│ DL      ┆ 0.836812     │\n",
            "│ …       ┆ …            │\n",
            "│ FL      ┆ 0.733291     │\n",
            "│ WN      ┆ 0.731027     │\n",
            "│ F9      ┆ 0.718475     │\n",
            "│ YV      ┆ 0.713761     │\n",
            "│ EV      ┆ 0.695381     │\n",
            "└─────────┴──────────────┘\n"
          ]
        }
      ]
    },
    {
      "cell_type": "code",
      "source": [
        "# Exercise 3: Joins\n",
        "# 3.1 List flights with airline names (first 20)\n",
        "result = ctx.execute(\"\"\"\n",
        "SELECT\n",
        "  f.carrier,\n",
        "  a.name AS airline_name,\n",
        "  f.flight,\n",
        "  f.origin,\n",
        "  f.dest\n",
        "FROM flights f\n",
        "JOIN airlines a\n",
        "  ON f.carrier = a.carrier\n",
        "LIMIT 20\n",
        "\"\"\")\n",
        "print(result)"
      ],
      "metadata": {
        "colab": {
          "base_uri": "https://localhost:8080/"
        },
        "id": "8i0OmnCHQJsE",
        "outputId": "9ce00917-7391-473d-d2c5-8f87fc660673"
      },
      "execution_count": 15,
      "outputs": [
        {
          "output_type": "stream",
          "name": "stdout",
          "text": [
            "shape: (20, 5)\n",
            "┌─────────┬────────────────────────┬────────┬────────┬──────┐\n",
            "│ carrier ┆ airline_name           ┆ flight ┆ origin ┆ dest │\n",
            "│ ---     ┆ ---                    ┆ ---    ┆ ---    ┆ ---  │\n",
            "│ str     ┆ str                    ┆ i64    ┆ str    ┆ str  │\n",
            "╞═════════╪════════════════════════╪════════╪════════╪══════╡\n",
            "│ UA      ┆ United Air Lines Inc.  ┆ 1545   ┆ EWR    ┆ IAH  │\n",
            "│ UA      ┆ United Air Lines Inc.  ┆ 1714   ┆ LGA    ┆ IAH  │\n",
            "│ AA      ┆ American Airlines Inc. ┆ 1141   ┆ JFK    ┆ MIA  │\n",
            "│ B6      ┆ JetBlue Airways        ┆ 725    ┆ JFK    ┆ BQN  │\n",
            "│ DL      ┆ Delta Air Lines Inc.   ┆ 461    ┆ LGA    ┆ ATL  │\n",
            "│ …       ┆ …                      ┆ …      ┆ …      ┆ …    │\n",
            "│ B6      ┆ JetBlue Airways        ┆ 1806   ┆ JFK    ┆ BOS  │\n",
            "│ UA      ┆ United Air Lines Inc.  ┆ 1187   ┆ EWR    ┆ LAS  │\n",
            "│ B6      ┆ JetBlue Airways        ┆ 371    ┆ LGA    ┆ FLL  │\n",
            "│ MQ      ┆ Envoy Air              ┆ 4650   ┆ LGA    ┆ ATL  │\n",
            "│ B6      ┆ JetBlue Airways        ┆ 343    ┆ EWR    ┆ PBI  │\n",
            "└─────────┴────────────────────────┴────────┴────────┴──────┘\n"
          ]
        }
      ]
    },
    {
      "cell_type": "code",
      "source": [
        "# 3.2 Average age of planes for each carrier (age based on 2013)\n",
        "result = ctx.execute(\"\"\"\n",
        "SELECT\n",
        "  f.carrier,\n",
        "  AVG(2013 - p.year) AS avg_plane_age\n",
        "FROM flights f\n",
        "JOIN planes p\n",
        "  ON f.tailnum = p.tailnum\n",
        "WHERE p.year IS NOT NULL\n",
        "GROUP BY f.carrier\n",
        "ORDER BY avg_plane_age DESC\n",
        "\"\"\")\n",
        "print(result)"
      ],
      "metadata": {
        "colab": {
          "base_uri": "https://localhost:8080/"
        },
        "id": "K68sWabhQOfi",
        "outputId": "e56389ff-18d7-42ca-f4ca-cd9853236d0f"
      },
      "execution_count": 16,
      "outputs": [
        {
          "output_type": "stream",
          "name": "stdout",
          "text": [
            "shape: (16, 2)\n",
            "┌─────────┬───────────────┐\n",
            "│ carrier ┆ avg_plane_age │\n",
            "│ ---     ┆ ---           │\n",
            "│ str     ┆ f64           │\n",
            "╞═════════╪═══════════════╡\n",
            "│ MQ      ┆ 35.319        │\n",
            "│ AA      ┆ 25.869426     │\n",
            "│ DL      ┆ 16.372169     │\n",
            "│ UA      ┆ 13.207691     │\n",
            "│ FL      ┆ 11.385829     │\n",
            "│ …       ┆ …             │\n",
            "│ B6      ┆ 6.686702      │\n",
            "│ F9      ┆ 4.87874       │\n",
            "│ VX      ┆ 4.473643      │\n",
            "│ AS      ┆ 3.33662       │\n",
            "│ HA      ┆ 1.548387      │\n",
            "└─────────┴───────────────┘\n"
          ]
        }
      ]
    },
    {
      "cell_type": "code",
      "source": [
        "# 3.3 Flights with dep_delay > 30 and bad weather (wind_speed > 20 OR precip > 0.1)\n",
        "# (Peek weather table per prompt)\n",
        "wpeek = ctx.execute(\"\"\"\n",
        "SELECT *\n",
        "FROM weather\n",
        "LIMIT 5\n",
        "\"\"\")\n",
        "print(wpeek)\n",
        "\n",
        "result = ctx.execute(\"\"\"\n",
        "SELECT\n",
        "  f.year, f.month, f.day, f.dep_time, f.dep_delay, f.origin, f.dest,\n",
        "  w.wind_speed, w.precip\n",
        "FROM flights f\n",
        "JOIN weather w\n",
        "  ON f.origin = w.origin\n",
        " AND f.time_hour = w.time_hour\n",
        "WHERE f.dep_delay > 30\n",
        "  AND (w.wind_speed > 20 OR w.precip > 0.1)\n",
        "\"\"\")\n",
        "print(result)"
      ],
      "metadata": {
        "colab": {
          "base_uri": "https://localhost:8080/"
        },
        "id": "LInftysjQRJZ",
        "outputId": "9bb62cf7-8c30-4646-d691-9ec9da994c84"
      },
      "execution_count": 17,
      "outputs": [
        {
          "output_type": "stream",
          "name": "stdout",
          "text": [
            "shape: (5, 15)\n",
            "┌────────┬──────┬───────┬─────┬───┬────────┬──────────┬───────┬─────────────────────────┐\n",
            "│ origin ┆ year ┆ month ┆ day ┆ … ┆ precip ┆ pressure ┆ visib ┆ time_hour               │\n",
            "│ ---    ┆ ---  ┆ ---   ┆ --- ┆   ┆ ---    ┆ ---      ┆ ---   ┆ ---                     │\n",
            "│ str    ┆ i64  ┆ i64   ┆ i64 ┆   ┆ f64    ┆ f64      ┆ f64   ┆ datetime[μs, UTC]       │\n",
            "╞════════╪══════╪═══════╪═════╪═══╪════════╪══════════╪═══════╪═════════════════════════╡\n",
            "│ EWR    ┆ 2013 ┆ 1     ┆ 1   ┆ … ┆ 0.0    ┆ 1012.0   ┆ 10.0  ┆ 2013-01-01 06:00:00 UTC │\n",
            "│ EWR    ┆ 2013 ┆ 1     ┆ 1   ┆ … ┆ 0.0    ┆ 1012.3   ┆ 10.0  ┆ 2013-01-01 07:00:00 UTC │\n",
            "│ EWR    ┆ 2013 ┆ 1     ┆ 1   ┆ … ┆ 0.0    ┆ 1012.5   ┆ 10.0  ┆ 2013-01-01 08:00:00 UTC │\n",
            "│ EWR    ┆ 2013 ┆ 1     ┆ 1   ┆ … ┆ 0.0    ┆ 1012.2   ┆ 10.0  ┆ 2013-01-01 09:00:00 UTC │\n",
            "│ EWR    ┆ 2013 ┆ 1     ┆ 1   ┆ … ┆ 0.0    ┆ 1011.9   ┆ 10.0  ┆ 2013-01-01 10:00:00 UTC │\n",
            "└────────┴──────┴───────┴─────┴───┴────────┴──────────┴───────┴─────────────────────────┘\n",
            "shape: (4_938, 9)\n",
            "┌──────┬───────┬─────┬──────────┬───┬────────┬──────┬────────────┬────────┐\n",
            "│ year ┆ month ┆ day ┆ dep_time ┆ … ┆ origin ┆ dest ┆ wind_speed ┆ precip │\n",
            "│ ---  ┆ ---   ┆ --- ┆ ---      ┆   ┆ ---    ┆ ---  ┆ ---        ┆ ---    │\n",
            "│ i64  ┆ i64   ┆ i64 ┆ i64      ┆   ┆ str    ┆ str  ┆ f64        ┆ f64    │\n",
            "╞══════╪═══════╪═════╪══════════╪═══╪════════╪══════╪════════════╪════════╡\n",
            "│ 2013 ┆ 1     ┆ 1   ┆ 2217     ┆ … ┆ JFK    ┆ TPA  ┆ 21.86482   ┆ 0.0    │\n",
            "│ 2013 ┆ 1     ┆ 1   ┆ 2326     ┆ … ┆ JFK    ┆ LAS  ┆ 21.86482   ┆ 0.0    │\n",
            "│ 2013 ┆ 1     ┆ 4   ┆ 1238     ┆ … ┆ EWR    ┆ JAX  ┆ 20.71404   ┆ 0.0    │\n",
            "│ 2013 ┆ 1     ┆ 4   ┆ 1400     ┆ … ┆ EWR    ┆ IAD  ┆ 24.16638   ┆ 0.0    │\n",
            "│ 2013 ┆ 1     ┆ 4   ┆ 1455     ┆ … ┆ JFK    ┆ BOS  ┆ 20.71404   ┆ 0.0    │\n",
            "│ …    ┆ …     ┆ …   ┆ …        ┆ … ┆ …      ┆ …    ┆ …          ┆ …      │\n",
            "│ 2013 ┆ 9     ┆ 22  ┆ 1540     ┆ … ┆ LGA    ┆ ATL  ┆ 20.71404   ┆ 0.0    │\n",
            "│ 2013 ┆ 9     ┆ 22  ┆ 1957     ┆ … ┆ LGA    ┆ PIT  ┆ 20.71404   ┆ 0.0    │\n",
            "│ 2013 ┆ 9     ┆ 22  ┆ 2104     ┆ … ┆ JFK    ┆ PHX  ┆ 21.86482   ┆ 0.0    │\n",
            "│ 2013 ┆ 9     ┆ 22  ┆ 2111     ┆ … ┆ JFK    ┆ LAX  ┆ 21.86482   ┆ 0.0    │\n",
            "│ 2013 ┆ 9     ┆ 22  ┆ 2130     ┆ … ┆ JFK    ┆ BOS  ┆ 21.86482   ┆ 0.0    │\n",
            "└──────┴───────┴─────┴──────────┴───┴────────┴──────┴────────────┴────────┘\n"
          ]
        }
      ]
    },
    {
      "cell_type": "code",
      "source": [
        "# Exercise 4: Advanced Queries\n",
        "# 4.1 Most popular aircraft types (by number of flights) – top 10\n",
        "result = ctx.execute(\"\"\"\n",
        "SELECT\n",
        "  p.manufacturer,\n",
        "  p.model,\n",
        "  COUNT(*) AS flight_count\n",
        "FROM flights f\n",
        "JOIN planes p\n",
        "  ON f.tailnum = p.tailnum\n",
        "GROUP BY p.manufacturer, p.model\n",
        "ORDER BY flight_count DESC\n",
        "LIMIT 10\n",
        "\"\"\")\n",
        "print(result)"
      ],
      "metadata": {
        "colab": {
          "base_uri": "https://localhost:8080/"
        },
        "id": "mbBHkBUxQVmC",
        "outputId": "21bb1ed6-0726-4130-ba3f-931a4549575d"
      },
      "execution_count": 36,
      "outputs": [
        {
          "output_type": "stream",
          "name": "stdout",
          "text": [
            "shape: (10, 3)\n",
            "┌───────────────────────────────┬─────────────────┬──────────────┐\n",
            "│ manufacturer                  ┆ model           ┆ flight_count │\n",
            "│ ---                           ┆ ---             ┆ ---          │\n",
            "│ str                           ┆ str             ┆ u32          │\n",
            "╞═══════════════════════════════╪═════════════════╪══════════════╡\n",
            "│ AIRBUS                        ┆ A320-232        ┆ 31278        │\n",
            "│ EMBRAER                       ┆ EMB-145LR       ┆ 28027        │\n",
            "│ EMBRAER                       ┆ ERJ 190-100 IGW ┆ 23716        │\n",
            "│ AIRBUS INDUSTRIE              ┆ A320-232        ┆ 14553        │\n",
            "│ EMBRAER                       ┆ EMB-145XR       ┆ 14051        │\n",
            "│ BOEING                        ┆ 737-824         ┆ 13809        │\n",
            "│ BOMBARDIER INC                ┆ CL-600-2D24     ┆ 11807        │\n",
            "│ BOEING                        ┆ 737-7H4         ┆ 10389        │\n",
            "│ BOEING                        ┆ 757-222         ┆ 9150         │\n",
            "│ MCDONNELL DOUGLAS AIRCRAFT CO ┆ MD-88           ┆ 8932         │\n",
            "└───────────────────────────────┴─────────────────┴──────────────┘\n"
          ]
        }
      ]
    },
    {
      "cell_type": "code",
      "source": [
        "# Exercise 4: Advanced Queries\n",
        "# 4.2 Route performance (top 10 routes by total flights) with airport names\n",
        "result = ctx.execute(\"\"\"\n",
        "WITH routes AS (\n",
        "  SELECT\n",
        "    f.origin,\n",
        "    ao.name AS origin_name,\n",
        "    f.dest,\n",
        "    ad.name AS dest_name,\n",
        "    f.dep_delay\n",
        "  FROM flights AS f\n",
        "  JOIN airports AS ao ON f.origin = ao.faa\n",
        "  JOIN airports AS ad ON f.dest   = ad.faa\n",
        ")\n",
        "SELECT\n",
        "  origin,\n",
        "  origin_name,\n",
        "  dest,\n",
        "  dest_name,\n",
        "  COUNT(*) AS total_flights,\n",
        "  AVG(dep_delay) AS avg_dep_delay,\n",
        "  AVG(CASE WHEN dep_delay > 30 THEN 1 ELSE 0 END) AS pct_delayed_over_30\n",
        "FROM routes\n",
        "GROUP BY origin, origin_name, dest, dest_name\n",
        "ORDER BY total_flights DESC\n",
        "LIMIT 10\n",
        "\"\"\")\n",
        "print(result)"
      ],
      "metadata": {
        "colab": {
          "base_uri": "https://localhost:8080/"
        },
        "id": "0f07NrxkQeNH",
        "outputId": "0068332b-2192-4996-97b1-bfa33903a859"
      },
      "execution_count": 40,
      "outputs": [
        {
          "output_type": "stream",
          "name": "stdout",
          "text": [
            "shape: (10, 7)\n",
            "┌────────┬────────────────┬──────┬────────────────┬───────────────┬───────────────┬────────────────┐\n",
            "│ origin ┆ origin_name    ┆ dest ┆ dest_name      ┆ total_flights ┆ avg_dep_delay ┆ pct_delayed_ov │\n",
            "│ ---    ┆ ---            ┆ ---  ┆ ---            ┆ ---           ┆ ---           ┆ er_30          │\n",
            "│ str    ┆ str            ┆ str  ┆ str            ┆ u32           ┆ f64           ┆ ---            │\n",
            "│        ┆                ┆      ┆                ┆               ┆               ┆ f64            │\n",
            "╞════════╪════════════════╪══════╪════════════════╪═══════════════╪═══════════════╪════════════════╡\n",
            "│ JFK    ┆ John F Kennedy ┆ LAX  ┆ Los Angeles    ┆ 11262         ┆ 8.522508      ┆ 0.098295       │\n",
            "│        ┆ Intl           ┆      ┆ Intl           ┆               ┆               ┆                │\n",
            "│ LGA    ┆ La Guardia     ┆ ATL  ┆ Hartsfield     ┆ 10263         ┆ 11.448621     ┆ 0.122479       │\n",
            "│        ┆                ┆      ┆ Jackson        ┆               ┆               ┆                │\n",
            "│        ┆                ┆      ┆ Atlanta Int…   ┆               ┆               ┆                │\n",
            "│ LGA    ┆ La Guardia     ┆ ORD  ┆ Chicago Ohare  ┆ 8857          ┆ 10.740758     ┆ 0.133454       │\n",
            "│        ┆                ┆      ┆ Intl           ┆               ┆               ┆                │\n",
            "│ JFK    ┆ John F Kennedy ┆ SFO  ┆ San Francisco  ┆ 8204          ┆ 11.952691     ┆ 0.12116        │\n",
            "│        ┆ Intl           ┆      ┆ Intl           ┆               ┆               ┆                │\n",
            "│ LGA    ┆ La Guardia     ┆ CLT  ┆ Charlotte      ┆ 6168          ┆ 8.965321      ┆ 0.119488       │\n",
            "│        ┆                ┆      ┆ Douglas Intl   ┆               ┆               ┆                │\n",
            "│ EWR    ┆ Newark Liberty ┆ ORD  ┆ Chicago Ohare  ┆ 6100          ┆ 14.644163     ┆ 0.16           │\n",
            "│        ┆ Intl           ┆      ┆ Intl           ┆               ┆               ┆                │\n",
            "│ JFK    ┆ John F Kennedy ┆ BOS  ┆ General Edward ┆ 5898          ┆ 11.694953     ┆ 0.137674       │\n",
            "│        ┆ Intl           ┆      ┆ Lawrence Logan ┆               ┆               ┆                │\n",
            "│        ┆                ┆      ┆ …              ┆               ┆               ┆                │\n",
            "│ LGA    ┆ La Guardia     ┆ MIA  ┆ Miami Intl     ┆ 5781          ┆ 7.361747      ┆ 0.09462        │\n",
            "│ JFK    ┆ John F Kennedy ┆ MCO  ┆ Orlando Intl   ┆ 5464          ┆ 10.601583     ┆ 0.127196       │\n",
            "│        ┆ Intl           ┆      ┆                ┆               ┆               ┆                │\n",
            "│ EWR    ┆ Newark Liberty ┆ BOS  ┆ General Edward ┆ 5327          ┆ 12.54561      ┆ 0.149052       │\n",
            "│        ┆ Intl           ┆      ┆ Lawrence Logan ┆               ┆               ┆                │\n",
            "│        ┆                ┆      ┆ …              ┆               ┆               ┆                │\n",
            "└────────┴────────────────┴──────┴────────────────┴───────────────┴───────────────┴────────────────┘\n"
          ]
        }
      ]
    },
    {
      "cell_type": "code",
      "source": [
        "# Bonus: Compare with Polars\n",
        "# Polars version of 3.3\n",
        "bad_weather_delays = (\n",
        "    flights.join(weather, on=[\"origin\",\"time_hour\"], how=\"inner\")\n",
        "    .filter(\n",
        "        (pl.col(\"dep_delay\") > 30) &\n",
        "        ((pl.col(\"wind_speed\") > 20) | (pl.col(\"precip\") > 0.1))\n",
        "    )\n",
        "    .select([\"year\",\"month\",\"day\",\"dep_time\",\"dep_delay\",\"origin\",\"dest\",\"wind_speed\",\"precip\"])\n",
        ")\n",
        "print(bad_weather_delays)"
      ],
      "metadata": {
        "colab": {
          "base_uri": "https://localhost:8080/"
        },
        "id": "euwYgBgMQlGa",
        "outputId": "3697faf7-32dd-49ad-8a39-93a2d275a747"
      },
      "execution_count": 28,
      "outputs": [
        {
          "output_type": "stream",
          "name": "stdout",
          "text": [
            "shape: (4_938, 9)\n",
            "┌──────┬───────┬─────┬──────────┬───┬────────┬──────┬────────────┬────────┐\n",
            "│ year ┆ month ┆ day ┆ dep_time ┆ … ┆ origin ┆ dest ┆ wind_speed ┆ precip │\n",
            "│ ---  ┆ ---   ┆ --- ┆ ---      ┆   ┆ ---    ┆ ---  ┆ ---        ┆ ---    │\n",
            "│ i64  ┆ i64   ┆ i64 ┆ i64      ┆   ┆ str    ┆ str  ┆ f64        ┆ f64    │\n",
            "╞══════╪═══════╪═════╪══════════╪═══╪════════╪══════╪════════════╪════════╡\n",
            "│ 2013 ┆ 1     ┆ 1   ┆ 2217     ┆ … ┆ JFK    ┆ TPA  ┆ 21.86482   ┆ 0.0    │\n",
            "│ 2013 ┆ 1     ┆ 1   ┆ 2326     ┆ … ┆ JFK    ┆ LAS  ┆ 21.86482   ┆ 0.0    │\n",
            "│ 2013 ┆ 1     ┆ 4   ┆ 1238     ┆ … ┆ EWR    ┆ JAX  ┆ 20.71404   ┆ 0.0    │\n",
            "│ 2013 ┆ 1     ┆ 4   ┆ 1400     ┆ … ┆ EWR    ┆ IAD  ┆ 24.16638   ┆ 0.0    │\n",
            "│ 2013 ┆ 1     ┆ 4   ┆ 1455     ┆ … ┆ JFK    ┆ BOS  ┆ 20.71404   ┆ 0.0    │\n",
            "│ …    ┆ …     ┆ …   ┆ …        ┆ … ┆ …      ┆ …    ┆ …          ┆ …      │\n",
            "│ 2013 ┆ 9     ┆ 22  ┆ 1540     ┆ … ┆ LGA    ┆ ATL  ┆ 20.71404   ┆ 0.0    │\n",
            "│ 2013 ┆ 9     ┆ 22  ┆ 1957     ┆ … ┆ LGA    ┆ PIT  ┆ 20.71404   ┆ 0.0    │\n",
            "│ 2013 ┆ 9     ┆ 22  ┆ 2104     ┆ … ┆ JFK    ┆ PHX  ┆ 21.86482   ┆ 0.0    │\n",
            "│ 2013 ┆ 9     ┆ 22  ┆ 2111     ┆ … ┆ JFK    ┆ LAX  ┆ 21.86482   ┆ 0.0    │\n",
            "│ 2013 ┆ 9     ┆ 22  ┆ 2130     ┆ … ┆ JFK    ┆ BOS  ┆ 21.86482   ┆ 0.0    │\n",
            "└──────┴───────┴─────┴──────────┴───┴────────┴──────┴────────────┴────────┘\n"
          ]
        }
      ]
    }
  ]
}